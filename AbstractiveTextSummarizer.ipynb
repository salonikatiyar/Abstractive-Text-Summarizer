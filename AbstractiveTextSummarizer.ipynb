{
  "nbformat": 4,
  "nbformat_minor": 0,
  "metadata": {
    "colab": {
      "name": "TextMining.ipynb",
      "provenance": [],
      "collapsed_sections": [],
      "include_colab_link": true
    },
    "kernelspec": {
      "name": "python3",
      "display_name": "Python 3"
    }
  },
  "cells": [
    {
      "cell_type": "markdown",
      "metadata": {
        "id": "view-in-github",
        "colab_type": "text"
      },
      "source": [
        "<a href=\"https://colab.research.google.com/github/salonikatiyar/Projects/blob/master/AbstractiveTextSummarizer.ipynb\" target=\"_parent\"><img src=\"https://colab.research.google.com/assets/colab-badge.svg\" alt=\"Open In Colab\"/></a>"
      ]
    },
    {
      "cell_type": "markdown",
      "metadata": {
        "id": "O0Wa7y0n-5DP"
      },
      "source": [
        "# Abstractive Summarization with Amazon Reviews\n",
        "#### Text Mining Final Project\n",
        "#### Saloni Katiyar and Eugene Lucino"
      ]
    },
    {
      "cell_type": "code",
      "metadata": {
        "id": "OroAjyCL0_bM"
      },
      "source": [
        "attention_keras = !git clone https://github.com/ziadloo/attention_keras.git\n",
        "from attention_keras.layers.attention import AttentionLayer"
      ],
      "execution_count": null,
      "outputs": []
    },
    {
      "cell_type": "code",
      "metadata": {
        "id": "b-9rGpzn2vBy"
      },
      "source": [
        "import numpy as np\n",
        "import pandas as pd \n",
        "import re\n",
        "import io\n",
        "from bs4 import BeautifulSoup\n",
        "from keras.preprocessing.text import Tokenizer \n",
        "from keras.preprocessing.sequence import pad_sequences\n",
        "from nltk.corpus import stopwords\n",
        "from tensorflow.keras.layers import Input, LSTM, Embedding, Dense, Concatenate, TimeDistributed\n",
        "from tensorflow.keras.models import Model\n",
        "from tensorflow.keras.callbacks import EarlyStopping\n",
        "import warnings\n",
        "pd.set_option(\"display.max_colwidth\", 200)\n",
        "warnings.filterwarnings(\"ignore\")"
      ],
      "execution_count": null,
      "outputs": []
    },
    {
      "cell_type": "code",
      "metadata": {
        "id": "gqeOyIwk40Yt"
      },
      "source": [
        "#from google.colab import files\n",
        "#uploaded = files.upload()"
      ],
      "execution_count": null,
      "outputs": []
    },
    {
      "cell_type": "code",
      "metadata": {
        "colab": {
          "base_uri": "https://localhost:8080/",
          "height": 838
        },
        "id": "cDnc6Vx3bhEP",
        "outputId": "10d4e5c9-1799-4621-f70f-6eaabe1fdc2a"
      },
      "source": [
        "data = pd.read_csv('/content/Reviews.csv')\n",
        "data"
      ],
      "execution_count": null,
      "outputs": [
        {
          "output_type": "execute_result",
          "data": {
            "text/html": [
              "<div>\n",
              "<style scoped>\n",
              "    .dataframe tbody tr th:only-of-type {\n",
              "        vertical-align: middle;\n",
              "    }\n",
              "\n",
              "    .dataframe tbody tr th {\n",
              "        vertical-align: top;\n",
              "    }\n",
              "\n",
              "    .dataframe thead th {\n",
              "        text-align: right;\n",
              "    }\n",
              "</style>\n",
              "<table border=\"1\" class=\"dataframe\">\n",
              "  <thead>\n",
              "    <tr style=\"text-align: right;\">\n",
              "      <th></th>\n",
              "      <th>Id</th>\n",
              "      <th>ProductId</th>\n",
              "      <th>UserId</th>\n",
              "      <th>ProfileName</th>\n",
              "      <th>HelpfulnessNumerator</th>\n",
              "      <th>HelpfulnessDenominator</th>\n",
              "      <th>Score</th>\n",
              "      <th>Time</th>\n",
              "      <th>Summary</th>\n",
              "      <th>Text</th>\n",
              "    </tr>\n",
              "  </thead>\n",
              "  <tbody>\n",
              "    <tr>\n",
              "      <th>0</th>\n",
              "      <td>1</td>\n",
              "      <td>B001E4KFG0</td>\n",
              "      <td>A3SGXH7AUHU8GW</td>\n",
              "      <td>delmartian</td>\n",
              "      <td>1</td>\n",
              "      <td>1</td>\n",
              "      <td>5</td>\n",
              "      <td>1303862400</td>\n",
              "      <td>Good Quality Dog Food</td>\n",
              "      <td>I have bought several of the Vitality canned dog food products and have found them all to be of good quality. The product looks more like a stew than a processed meat and it smells better. My Labr...</td>\n",
              "    </tr>\n",
              "    <tr>\n",
              "      <th>1</th>\n",
              "      <td>2</td>\n",
              "      <td>B00813GRG4</td>\n",
              "      <td>A1D87F6ZCVE5NK</td>\n",
              "      <td>dll pa</td>\n",
              "      <td>0</td>\n",
              "      <td>0</td>\n",
              "      <td>1</td>\n",
              "      <td>1346976000</td>\n",
              "      <td>Not as Advertised</td>\n",
              "      <td>Product arrived labeled as Jumbo Salted Peanuts...the peanuts were actually small sized unsalted. Not sure if this was an error or if the vendor intended to represent the product as \"Jumbo\".</td>\n",
              "    </tr>\n",
              "    <tr>\n",
              "      <th>2</th>\n",
              "      <td>3</td>\n",
              "      <td>B000LQOCH0</td>\n",
              "      <td>ABXLMWJIXXAIN</td>\n",
              "      <td>Natalia Corres \"Natalia Corres\"</td>\n",
              "      <td>1</td>\n",
              "      <td>1</td>\n",
              "      <td>4</td>\n",
              "      <td>1219017600</td>\n",
              "      <td>\"Delight\" says it all</td>\n",
              "      <td>This is a confection that has been around a few centuries.  It is a light, pillowy citrus gelatin with nuts - in this case Filberts. And it is cut into tiny squares and then liberally coated with ...</td>\n",
              "    </tr>\n",
              "    <tr>\n",
              "      <th>3</th>\n",
              "      <td>4</td>\n",
              "      <td>B000UA0QIQ</td>\n",
              "      <td>A395BORC6FGVXV</td>\n",
              "      <td>Karl</td>\n",
              "      <td>3</td>\n",
              "      <td>3</td>\n",
              "      <td>2</td>\n",
              "      <td>1307923200</td>\n",
              "      <td>Cough Medicine</td>\n",
              "      <td>If you are looking for the secret ingredient in Robitussin I believe I have found it.  I got this in addition to the Root Beer Extract I ordered (which was good) and made some cherry soda.  The fl...</td>\n",
              "    </tr>\n",
              "    <tr>\n",
              "      <th>4</th>\n",
              "      <td>5</td>\n",
              "      <td>B006K2ZZ7K</td>\n",
              "      <td>A1UQRSCLF8GW1T</td>\n",
              "      <td>Michael D. Bigham \"M. Wassir\"</td>\n",
              "      <td>0</td>\n",
              "      <td>0</td>\n",
              "      <td>5</td>\n",
              "      <td>1350777600</td>\n",
              "      <td>Great taffy</td>\n",
              "      <td>Great taffy at a great price.  There was a wide assortment of yummy taffy.  Delivery was very quick.  If your a taffy lover, this is a deal.</td>\n",
              "    </tr>\n",
              "    <tr>\n",
              "      <th>...</th>\n",
              "      <td>...</td>\n",
              "      <td>...</td>\n",
              "      <td>...</td>\n",
              "      <td>...</td>\n",
              "      <td>...</td>\n",
              "      <td>...</td>\n",
              "      <td>...</td>\n",
              "      <td>...</td>\n",
              "      <td>...</td>\n",
              "      <td>...</td>\n",
              "    </tr>\n",
              "    <tr>\n",
              "      <th>78715</th>\n",
              "      <td>78716</td>\n",
              "      <td>B00472I5A4</td>\n",
              "      <td>A1JBB01LAK69LV</td>\n",
              "      <td>Rubyred</td>\n",
              "      <td>1</td>\n",
              "      <td>1</td>\n",
              "      <td>4</td>\n",
              "      <td>1212105600</td>\n",
              "      <td>The chip with a kiss of salt</td>\n",
              "      <td>These chips are delectably delicious. I am on a low sodium diet. I didn't have to give up totally something that I truely love to snack. These chips are bursting with flavor, and you can't really ...</td>\n",
              "    </tr>\n",
              "    <tr>\n",
              "      <th>78716</th>\n",
              "      <td>78717</td>\n",
              "      <td>B00472I5A4</td>\n",
              "      <td>AKMEY1BSHSDG7</td>\n",
              "      <td>J. Arena</td>\n",
              "      <td>1</td>\n",
              "      <td>1</td>\n",
              "      <td>5</td>\n",
              "      <td>1202774400</td>\n",
              "      <td>Crunch. Wow!</td>\n",
              "      <td>Not too salty like regular supermarket chips, this is a snack that will not overwhelm you with guilt! When you just gotta have some chips, Kettle Chips Lightly Salted chips are the what you've bee...</td>\n",
              "    </tr>\n",
              "    <tr>\n",
              "      <th>78717</th>\n",
              "      <td>78718</td>\n",
              "      <td>B00472I5A4</td>\n",
              "      <td>A2F7GUZ4UMVHFL</td>\n",
              "      <td>James Walters</td>\n",
              "      <td>1</td>\n",
              "      <td>1</td>\n",
              "      <td>5</td>\n",
              "      <td>1186876800</td>\n",
              "      <td>Great strong flavor</td>\n",
              "      <td>I agree with the company motto \"A Natural Obsession\".  I tried a small bag at the local store and immediately bought in bulk online to save about 30 percent.  The flavor of these is very strong, s...</td>\n",
              "    </tr>\n",
              "    <tr>\n",
              "      <th>78718</th>\n",
              "      <td>78719</td>\n",
              "      <td>B00472I5A4</td>\n",
              "      <td>A3RO3CGZ9MWA1I</td>\n",
              "      <td>L. Cabrera</td>\n",
              "      <td>1</td>\n",
              "      <td>1</td>\n",
              "      <td>5</td>\n",
              "      <td>1178236800</td>\n",
              "      <td>yummy for your tummy</td>\n",
              "      <td>The New York Cheddar flavor is my favorite of all the Kettle Brand potato chips. These are flavorful and crunchy and will make your mouth happy. Unfortunately, it may do the opposite to your backs...</td>\n",
              "    </tr>\n",
              "    <tr>\n",
              "      <th>78719</th>\n",
              "      <td>78720</td>\n",
              "      <td>B00472I5A4</td>\n",
              "      <td>A37D5847LN3WQ</td>\n",
              "      <td>Wildcat Fan</td>\n",
              "      <td>3</td>\n",
              "      <td>4</td>\n",
              "      <td>4</td>\n",
              "      <td>121141440</td>\n",
              "      <td>NaN</td>\n",
              "      <td>NaN</td>\n",
              "    </tr>\n",
              "  </tbody>\n",
              "</table>\n",
              "<p>78720 rows × 10 columns</p>\n",
              "</div>"
            ],
            "text/plain": [
              "          Id  ...                                                                                                                                                                                                     Text\n",
              "0          1  ...  I have bought several of the Vitality canned dog food products and have found them all to be of good quality. The product looks more like a stew than a processed meat and it smells better. My Labr...\n",
              "1          2  ...           Product arrived labeled as Jumbo Salted Peanuts...the peanuts were actually small sized unsalted. Not sure if this was an error or if the vendor intended to represent the product as \"Jumbo\".\n",
              "2          3  ...  This is a confection that has been around a few centuries.  It is a light, pillowy citrus gelatin with nuts - in this case Filberts. And it is cut into tiny squares and then liberally coated with ...\n",
              "3          4  ...  If you are looking for the secret ingredient in Robitussin I believe I have found it.  I got this in addition to the Root Beer Extract I ordered (which was good) and made some cherry soda.  The fl...\n",
              "4          5  ...                                                             Great taffy at a great price.  There was a wide assortment of yummy taffy.  Delivery was very quick.  If your a taffy lover, this is a deal.\n",
              "...      ...  ...                                                                                                                                                                                                      ...\n",
              "78715  78716  ...  These chips are delectably delicious. I am on a low sodium diet. I didn't have to give up totally something that I truely love to snack. These chips are bursting with flavor, and you can't really ...\n",
              "78716  78717  ...  Not too salty like regular supermarket chips, this is a snack that will not overwhelm you with guilt! When you just gotta have some chips, Kettle Chips Lightly Salted chips are the what you've bee...\n",
              "78717  78718  ...  I agree with the company motto \"A Natural Obsession\".  I tried a small bag at the local store and immediately bought in bulk online to save about 30 percent.  The flavor of these is very strong, s...\n",
              "78718  78719  ...  The New York Cheddar flavor is my favorite of all the Kettle Brand potato chips. These are flavorful and crunchy and will make your mouth happy. Unfortunately, it may do the opposite to your backs...\n",
              "78719  78720  ...                                                                                                                                                                                                      NaN\n",
              "\n",
              "[78720 rows x 10 columns]"
            ]
          },
          "metadata": {
            "tags": []
          },
          "execution_count": 5
        }
      ]
    },
    {
      "cell_type": "markdown",
      "metadata": {
        "id": "CAfm3MGD-1sf"
      },
      "source": [
        "### Preprocessing\n"
      ]
    },
    {
      "cell_type": "code",
      "metadata": {
        "id": "02EYPCFg8RMq"
      },
      "source": [
        "# remove duplicates and na\n",
        "data.drop_duplicates(subset=['Text'],inplace=True)\n",
        "data.dropna(axis=0,inplace=True)"
      ],
      "execution_count": null,
      "outputs": []
    },
    {
      "cell_type": "code",
      "metadata": {
        "id": "2whfYqWu8YBU",
        "colab": {
          "base_uri": "https://localhost:8080/"
        },
        "outputId": "3b7613d6-e0ea-4d93-9d3f-ea4f59efeaa9"
      },
      "source": [
        "data.info()   "
      ],
      "execution_count": null,
      "outputs": [
        {
          "output_type": "stream",
          "text": [
            "<class 'pandas.core.frame.DataFrame'>\n",
            "Int64Index: 70214 entries, 0 to 78524\n",
            "Data columns (total 10 columns):\n",
            " #   Column                  Non-Null Count  Dtype \n",
            "---  ------                  --------------  ----- \n",
            " 0   Id                      70214 non-null  int64 \n",
            " 1   ProductId               70214 non-null  object\n",
            " 2   UserId                  70214 non-null  object\n",
            " 3   ProfileName             70214 non-null  object\n",
            " 4   HelpfulnessNumerator    70214 non-null  int64 \n",
            " 5   HelpfulnessDenominator  70214 non-null  int64 \n",
            " 6   Score                   70214 non-null  int64 \n",
            " 7   Time                    70214 non-null  int64 \n",
            " 8   Summary                 70214 non-null  object\n",
            " 9   Text                    70214 non-null  object\n",
            "dtypes: int64(5), object(5)\n",
            "memory usage: 5.9+ MB\n"
          ],
          "name": "stdout"
        }
      ]
    },
    {
      "cell_type": "code",
      "metadata": {
        "id": "j95oZtqM8hvI"
      },
      "source": [
        "# expanding all contractions\n",
        "contraction_mapping = {\"ain't\": \"is not\", \"aren't\": \"are not\",\"can't\": \"cannot\", \"'cause\": \"because\", \"could've\": \"could have\", \"couldn't\": \"could not\",\n",
        "\n",
        "                           \"didn't\": \"did not\", \"doesn't\": \"does not\", \"don't\": \"do not\", \"hadn't\": \"had not\", \"hasn't\": \"has not\", \"haven't\": \"have not\",\n",
        "\n",
        "                           \"he'd\": \"he would\",\"he'll\": \"he will\", \"he's\": \"he is\", \"how'd\": \"how did\", \"how'd'y\": \"how do you\", \"how'll\": \"how will\", \"how's\": \"how is\",\n",
        "\n",
        "                           \"I'd\": \"I would\", \"I'd've\": \"I would have\", \"I'll\": \"I will\", \"I'll've\": \"I will have\",\"I'm\": \"I am\", \"I've\": \"I have\", \"i'd\": \"i would\",\n",
        "\n",
        "                           \"i'd've\": \"i would have\", \"i'll\": \"i will\",  \"i'll've\": \"i will have\",\"i'm\": \"i am\", \"i've\": \"i have\", \"isn't\": \"is not\", \"it'd\": \"it would\",\n",
        "\n",
        "                           \"it'd've\": \"it would have\", \"it'll\": \"it will\", \"it'll've\": \"it will have\",\"it's\": \"it is\", \"let's\": \"let us\", \"ma'am\": \"madam\",\n",
        "\n",
        "                           \"mayn't\": \"may not\", \"might've\": \"might have\",\"mightn't\": \"might not\",\"mightn't've\": \"might not have\", \"must've\": \"must have\",\n",
        "\n",
        "                           \"mustn't\": \"must not\", \"mustn't've\": \"must not have\", \"needn't\": \"need not\", \"needn't've\": \"need not have\",\"o'clock\": \"of the clock\",\n",
        "\n",
        "                           \"oughtn't\": \"ought not\", \"oughtn't've\": \"ought not have\", \"shan't\": \"shall not\", \"sha'n't\": \"shall not\", \"shan't've\": \"shall not have\",\n",
        "\n",
        "                           \"she'd\": \"she would\", \"she'd've\": \"she would have\", \"she'll\": \"she will\", \"she'll've\": \"she will have\", \"she's\": \"she is\",\n",
        "\n",
        "                           \"should've\": \"should have\", \"shouldn't\": \"should not\", \"shouldn't've\": \"should not have\", \"so've\": \"so have\",\"so's\": \"so as\",\n",
        "\n",
        "                           \"this's\": \"this is\",\"that'd\": \"that would\", \"that'd've\": \"that would have\", \"that's\": \"that is\", \"there'd\": \"there would\",\n",
        "\n",
        "                           \"there'd've\": \"there would have\", \"there's\": \"there is\", \"here's\": \"here is\",\"they'd\": \"they would\", \"they'd've\": \"they would have\",\n",
        "\n",
        "                           \"they'll\": \"they will\", \"they'll've\": \"they will have\", \"they're\": \"they are\", \"they've\": \"they have\", \"to've\": \"to have\",\n",
        "\n",
        "                           \"wasn't\": \"was not\", \"we'd\": \"we would\", \"we'd've\": \"we would have\", \"we'll\": \"we will\", \"we'll've\": \"we will have\", \"we're\": \"we are\",\n",
        "\n",
        "                           \"we've\": \"we have\", \"weren't\": \"were not\", \"what'll\": \"what will\", \"what'll've\": \"what will have\", \"what're\": \"what are\",\n",
        "\n",
        "                           \"what's\": \"what is\", \"what've\": \"what have\", \"when's\": \"when is\", \"when've\": \"when have\", \"where'd\": \"where did\", \"where's\": \"where is\",\n",
        "\n",
        "                           \"where've\": \"where have\", \"who'll\": \"who will\", \"who'll've\": \"who will have\", \"who's\": \"who is\", \"who've\": \"who have\",\n",
        "\n",
        "                           \"why's\": \"why is\", \"why've\": \"why have\", \"will've\": \"will have\", \"won't\": \"will not\", \"won't've\": \"will not have\",\n",
        "\n",
        "                           \"would've\": \"would have\", \"wouldn't\": \"would not\", \"wouldn't've\": \"would not have\", \"y'all\": \"you all\",\n",
        "\n",
        "                           \"y'all'd\": \"you all would\",\"y'all'd've\": \"you all would have\",\"y'all're\": \"you all are\",\"y'all've\": \"you all have\",\n",
        "\n",
        "                           \"you'd\": \"you would\", \"you'd've\": \"you would have\", \"you'll\": \"you will\", \"you'll've\": \"you will have\",\n",
        "\n",
        "                           \"you're\": \"you are\", \"you've\": \"you have\"}\n"
      ],
      "execution_count": null,
      "outputs": []
    },
    {
      "cell_type": "code",
      "metadata": {
        "colab": {
          "base_uri": "https://localhost:8080/"
        },
        "id": "SFr1GtoSWhlD",
        "outputId": "3e73cca6-975c-45ee-99dc-fb7d171d6844"
      },
      "source": [
        "import nltk\n",
        "nltk.download('stopwords')"
      ],
      "execution_count": null,
      "outputs": [
        {
          "output_type": "stream",
          "text": [
            "[nltk_data] Downloading package stopwords to /root/nltk_data...\n",
            "[nltk_data]   Unzipping corpora/stopwords.zip.\n"
          ],
          "name": "stdout"
        },
        {
          "output_type": "execute_result",
          "data": {
            "text/plain": [
              "True"
            ]
          },
          "metadata": {
            "tags": []
          },
          "execution_count": 9
        }
      ]
    },
    {
      "cell_type": "markdown",
      "metadata": {
        "id": "A5py9gAA9S3C"
      },
      "source": [
        "Perform the following preprocessing tasks:\n",
        "\n",
        "* Convert everything to lowercase\n",
        "* Remove HTML tags\n",
        "* Contraction mapping\n",
        "* Remove ('s)\n",
        "* Remove text inside parenthesis ( )\n",
        "* Eliminate punctuations and special characters\n",
        "* Remove stopwords\n",
        "* Remove short words"
      ]
    },
    {
      "cell_type": "code",
      "metadata": {
        "id": "xuTrVv7d8pSI"
      },
      "source": [
        "stop_words = set(stopwords.words('english')) \n",
        "\n",
        "def text_cleaner(text,num):\n",
        "    newString = text.lower()\n",
        "    newString = BeautifulSoup(newString, \"lxml\").text\n",
        "    newString = re.sub(r'\\([^)]*\\)', '', newString)\n",
        "    newString = re.sub('\"','', newString)\n",
        "    newString = ' '.join([contraction_mapping[t] if t in contraction_mapping else t for t in newString.split(\" \")])    \n",
        "    newString = re.sub(r\"'s\\b\",\"\",newString)\n",
        "    newString = re.sub(\"[^a-zA-Z]\", \" \", newString) \n",
        "    newString = re.sub('[m]{2,}', 'mm', newString)\n",
        "    if(num==0):\n",
        "        tokens = [w for w in newString.split() if not w in stop_words]\n",
        "    else:\n",
        "        tokens=newString.split()\n",
        "    long_words=[]\n",
        "    for i in tokens:\n",
        "        if len(i)>1:\n",
        "            long_words.append(i)   \n",
        "    return (\" \".join(long_words)).strip()"
      ],
      "execution_count": null,
      "outputs": []
    },
    {
      "cell_type": "code",
      "metadata": {
        "id": "MMYnAN829D7m"
      },
      "source": [
        "# clean up the overall review\n",
        "cleaned_text = []\n",
        "for t in data['Text']:\n",
        "    cleaned_text.append(text_cleaner(t,0))"
      ],
      "execution_count": null,
      "outputs": []
    },
    {
      "cell_type": "code",
      "metadata": {
        "id": "chYLSeiA9Eir",
        "colab": {
          "base_uri": "https://localhost:8080/"
        },
        "outputId": "7349a41f-3704-4d5e-ebd2-056a7baf5afb"
      },
      "source": [
        "cleaned_text[:5]"
      ],
      "execution_count": null,
      "outputs": [
        {
          "output_type": "execute_result",
          "data": {
            "text/plain": [
              "['bought several vitality canned dog food products found good quality product looks like stew processed meat smells better labrador finicky appreciates product better',\n",
              " 'product arrived labeled jumbo salted peanuts peanuts actually small sized unsalted sure error vendor intended represent product jumbo',\n",
              " 'confection around centuries light pillowy citrus gelatin nuts case filberts cut tiny squares liberally coated powdered sugar tiny mouthful heaven chewy flavorful highly recommend yummy treat familiar story lewis lion witch wardrobe treat seduces edmund selling brother sisters witch',\n",
              " 'looking secret ingredient robitussin believe found got addition root beer extract ordered made cherry soda flavor medicinal',\n",
              " 'great taffy great price wide assortment yummy taffy delivery quick taffy lover deal']"
            ]
          },
          "metadata": {
            "tags": []
          },
          "execution_count": 12
        }
      ]
    },
    {
      "cell_type": "code",
      "metadata": {
        "id": "XK5sH7VB-CHf"
      },
      "source": [
        "# clean up the summary of the review\n",
        "cleaned_summary = []\n",
        "for t in data['Summary']:\n",
        "    cleaned_summary.append(text_cleaner(t,1))"
      ],
      "execution_count": null,
      "outputs": []
    },
    {
      "cell_type": "code",
      "metadata": {
        "id": "iLeyxjOb-FBF",
        "colab": {
          "base_uri": "https://localhost:8080/"
        },
        "outputId": "7cf038b6-3886-4565-ea7f-aacb6271204f"
      },
      "source": [
        "cleaned_summary[:10]"
      ],
      "execution_count": null,
      "outputs": [
        {
          "output_type": "execute_result",
          "data": {
            "text/plain": [
              "['good quality dog food',\n",
              " 'not as advertised',\n",
              " 'delight says it all',\n",
              " 'cough medicine',\n",
              " 'great taffy',\n",
              " 'nice taffy',\n",
              " 'great just as good as the expensive brands',\n",
              " 'wonderful tasty taffy',\n",
              " 'yay barley',\n",
              " 'healthy dog food']"
            ]
          },
          "metadata": {
            "tags": []
          },
          "execution_count": 14
        }
      ]
    },
    {
      "cell_type": "code",
      "metadata": {
        "id": "Md0IfQlE-W0z"
      },
      "source": [
        "# add new columns to dataset\n",
        "data['cleaned_text']=cleaned_text\n",
        "data['cleaned_summary']=cleaned_summary"
      ],
      "execution_count": null,
      "outputs": []
    },
    {
      "cell_type": "code",
      "metadata": {
        "id": "964bxq77-ysL"
      },
      "source": [
        "# drop empty rows\n",
        "data.replace('', np.nan, inplace=True)\n",
        "data.dropna(axis=0,inplace=True)"
      ],
      "execution_count": null,
      "outputs": []
    },
    {
      "cell_type": "markdown",
      "metadata": {
        "id": "_NIz0U9zDo5z"
      },
      "source": [
        "Let us understand the proportion of the length of summaries below 8\n",
        "\n"
      ]
    },
    {
      "cell_type": "code",
      "metadata": {
        "colab": {
          "base_uri": "https://localhost:8080/"
        },
        "id": "7tybNQPFDlzy",
        "outputId": "2e8b2597-f5f7-414b-fa1e-5ed8bffd9c70"
      },
      "source": [
        "cnt=0\n",
        "for i in data['cleaned_summary']:\n",
        "    if(len(i.split())<=8):\n",
        "        cnt=cnt+1\n",
        "print(cnt/len(data['cleaned_summary']))"
      ],
      "execution_count": null,
      "outputs": [
        {
          "output_type": "stream",
          "text": [
            "0.9425557693678284\n"
          ],
          "name": "stdout"
        }
      ]
    },
    {
      "cell_type": "code",
      "metadata": {
        "id": "qmy9uXK6_cZE"
      },
      "source": [
        "# based on analysis from original report\n",
        "# most summaries are 8 words or less, so fix maximum summary length to 8\n",
        "# can fix maximum review length to 30\n",
        "max_text_len=30\n",
        "max_summary_len=8"
      ],
      "execution_count": null,
      "outputs": []
    },
    {
      "cell_type": "code",
      "metadata": {
        "id": "NjNlb7FN_ilI"
      },
      "source": [
        "# select reviews and summaries with length below or equal to max_text_len and max_summary_len\n",
        "\n",
        "cleaned_text =np.array(data['cleaned_text'])\n",
        "cleaned_summary=np.array(data['cleaned_summary'])\n",
        "\n",
        "short_text=[]\n",
        "short_summary=[]\n",
        "\n",
        "for i in range(len(cleaned_text)):\n",
        "    if(len(cleaned_summary[i].split())<=max_summary_len and len(cleaned_text[i].split())<=max_text_len):\n",
        "        short_text.append(cleaned_text[i])\n",
        "        short_summary.append(cleaned_summary[i])\n",
        "        \n",
        "df=pd.DataFrame({'text':short_text,'summary':short_summary})"
      ],
      "execution_count": null,
      "outputs": []
    },
    {
      "cell_type": "code",
      "metadata": {
        "id": "x7wwgM8g_ieC"
      },
      "source": [
        "# adding start and end special tokens at beginning and end of summary\n",
        "df['summary'] = df['summary'].apply(lambda x : 'sostok '+ x + ' eostok')"
      ],
      "execution_count": null,
      "outputs": []
    },
    {
      "cell_type": "code",
      "metadata": {
        "id": "vw1gSViy_iSO"
      },
      "source": [
        "# split dataset into training (90%) and validation (10%) set\n",
        "from sklearn.model_selection import train_test_split\n",
        "x_tr,x_val,y_tr,y_val=train_test_split(np.array(df['text']),np.array(df['summary']),test_size=0.1,random_state=0,shuffle=True)"
      ],
      "execution_count": null,
      "outputs": []
    },
    {
      "cell_type": "markdown",
      "metadata": {
        "id": "FSHgEJXyCZWt"
      },
      "source": [
        "#### Text Tokenizer"
      ]
    },
    {
      "cell_type": "code",
      "metadata": {
        "id": "2uoBiovVCbLx",
        "colab": {
          "base_uri": "https://localhost:8080/"
        },
        "outputId": "401ee178-a035-4158-eaa9-aca5a497db87"
      },
      "source": [
        "# prepare a tokenizer for reviews on training data\n",
        "x_tokenizer = Tokenizer() \n",
        "x_tokenizer.fit_on_texts(list(x_tr))\n",
        "\n",
        "thresh=4 # word with count below threshold is a rare word\n",
        "\n",
        "# tot_cnt: size of vocabulary (# of unique words)\n",
        "# cnt:     # of rare words whose count falls below threshold\n",
        "cnt=0\n",
        "tot_cnt=0\n",
        "freq=0\n",
        "tot_freq=0\n",
        "\n",
        "for key,value in x_tokenizer.word_counts.items():\n",
        "    tot_cnt=tot_cnt+1\n",
        "    tot_freq=tot_freq+value\n",
        "    if(value<thresh):\n",
        "        cnt=cnt+1\n",
        "        freq=freq+value\n",
        "    \n",
        "print(\"% of rare words in vocabulary:\",(cnt/tot_cnt)*100)\n",
        "print(\"Total Coverage of rare words:\",(freq/tot_freq)*100)"
      ],
      "execution_count": null,
      "outputs": [
        {
          "output_type": "stream",
          "text": [
            "% of rare words in vocabulary: 66.20683437021007\n",
            "Total Coverage of rare words: 3.3469170713613994\n"
          ],
          "name": "stdout"
        }
      ]
    },
    {
      "cell_type": "code",
      "metadata": {
        "id": "g0xiUXqADqdS",
        "colab": {
          "base_uri": "https://localhost:8080/"
        },
        "outputId": "e6054b89-b6a7-4524-ad8e-88ecb8204bd6"
      },
      "source": [
        "x_tokenizer = Tokenizer(num_words=tot_cnt-cnt)   # (tot_cnt - cnt) = top most common words\n",
        "x_tokenizer.fit_on_texts(list(x_tr))\n",
        "\n",
        "#convert text sequences into integer sequences\n",
        "x_tr_seq    =   x_tokenizer.texts_to_sequences(x_tr) \n",
        "x_val_seq   =   x_tokenizer.texts_to_sequences(x_val)\n",
        "\n",
        "#padding zero upto maximum length\n",
        "x_tr    =   pad_sequences(x_tr_seq,  maxlen=max_text_len, padding='post')\n",
        "x_val   =   pad_sequences(x_val_seq, maxlen=max_text_len, padding='post')\n",
        "\n",
        "#size of vocabulary ( +1 for padding token)\n",
        "x_voc   =  x_tokenizer.num_words + 1\n",
        "x_voc"
      ],
      "execution_count": null,
      "outputs": [
        {
          "output_type": "execute_result",
          "data": {
            "text/plain": [
              "7497"
            ]
          },
          "metadata": {
            "tags": []
          },
          "execution_count": 23
        }
      ]
    },
    {
      "cell_type": "code",
      "metadata": {
        "id": "OEstahBgbJCQ"
      },
      "source": [
        "y_tokenizer = Tokenizer()   \n",
        "y_tokenizer.fit_on_texts(list(y_tr))"
      ],
      "execution_count": null,
      "outputs": []
    },
    {
      "cell_type": "markdown",
      "metadata": {
        "id": "aJPXOWF7EbcC"
      },
      "source": [
        "### Summary Tokenizer"
      ]
    },
    {
      "cell_type": "code",
      "metadata": {
        "id": "3VeR88c1ESnw",
        "colab": {
          "base_uri": "https://localhost:8080/"
        },
        "outputId": "ddf68515-9744-4879-8a1a-7d3cae59fb31"
      },
      "source": [
        "thresh=6 # word with count below threshold is a rare word\n",
        "\n",
        "cnt=0\n",
        "tot_cnt=0\n",
        "freq=0\n",
        "tot_freq=0\n",
        "\n",
        "for key,value in y_tokenizer.word_counts.items():\n",
        "    tot_cnt=tot_cnt+1\n",
        "    tot_freq=tot_freq+value\n",
        "    if(value<thresh):\n",
        "        cnt=cnt+1\n",
        "        freq=freq+value\n",
        "    \n",
        "print(\"% of rare words in vocabulary:\",(cnt/tot_cnt)*100)\n",
        "print(\"Total Coverage of rare words:\",(freq/tot_freq)*100)"
      ],
      "execution_count": null,
      "outputs": [
        {
          "output_type": "stream",
          "text": [
            "% of rare words in vocabulary: 78.74390091329914\n",
            "Total Coverage of rare words: 6.042000102522626\n"
          ],
          "name": "stdout"
        }
      ]
    },
    {
      "cell_type": "code",
      "metadata": {
        "id": "lC4zu7iuE41X"
      },
      "source": [
        "#prepare a tokenizer for reviews on training data\n",
        "y_tokenizer = Tokenizer(num_words=tot_cnt-cnt) \n",
        "y_tokenizer.fit_on_texts(list(y_tr))\n",
        "\n",
        "#convert text sequences into integer sequences\n",
        "y_tr_seq    =   y_tokenizer.texts_to_sequences(y_tr) \n",
        "y_val_seq   =   y_tokenizer.texts_to_sequences(y_val) \n",
        "\n",
        "#padding zero upto maximum length\n",
        "y_tr    =   pad_sequences(y_tr_seq, maxlen=max_summary_len, padding='post')\n",
        "y_val   =   pad_sequences(y_val_seq, maxlen=max_summary_len, padding='post')\n",
        "\n",
        "#size of vocabulary\n",
        "y_voc  =   y_tokenizer.num_words +1"
      ],
      "execution_count": null,
      "outputs": []
    },
    {
      "cell_type": "code",
      "metadata": {
        "colab": {
          "base_uri": "https://localhost:8080/"
        },
        "id": "W1BGsce7Y0lO",
        "outputId": "74304465-7e31-4470-fabf-2f05d61a344e"
      },
      "source": [
        "y_tokenizer.word_counts['sostok'],len(y_tr)"
      ],
      "execution_count": null,
      "outputs": [
        {
          "output_type": "execute_result",
          "data": {
            "text/plain": [
              "(33561, 33561)"
            ]
          },
          "metadata": {
            "tags": []
          },
          "execution_count": 27
        }
      ]
    },
    {
      "cell_type": "code",
      "metadata": {
        "id": "sue7NFccFC_c"
      },
      "source": [
        "# delete rows that contain only start and end tokens\n",
        "ind=[]\n",
        "for i in range(len(y_tr)):\n",
        "    cnt=0\n",
        "    for j in y_tr[i]:\n",
        "        if j!=0:\n",
        "            cnt=cnt+1\n",
        "    if(cnt==2):\n",
        "        ind.append(i)\n",
        "\n",
        "y_tr=np.delete(y_tr,ind, axis=0)\n",
        "x_tr=np.delete(x_tr,ind, axis=0)"
      ],
      "execution_count": null,
      "outputs": []
    },
    {
      "cell_type": "code",
      "metadata": {
        "id": "FOnqPWGKFHhm"
      },
      "source": [
        "ind=[]\n",
        "for i in range(len(y_val)):\n",
        "    cnt=0\n",
        "    for j in y_val[i]:\n",
        "        if j!=0:\n",
        "            cnt=cnt+1\n",
        "    if(cnt==2):\n",
        "        ind.append(i)\n",
        "\n",
        "y_val=np.delete(y_val,ind, axis=0)\n",
        "x_val=np.delete(x_val,ind, axis=0)"
      ],
      "execution_count": null,
      "outputs": []
    },
    {
      "cell_type": "markdown",
      "metadata": {
        "id": "CGn45HYEFOVc"
      },
      "source": [
        "### Model Building"
      ]
    },
    {
      "cell_type": "code",
      "metadata": {
        "id": "3DS9wfPJ7edJ"
      },
      "source": [
        "from keras import backend as K \n",
        "K.clear_session()"
      ],
      "execution_count": null,
      "outputs": []
    },
    {
      "cell_type": "code",
      "metadata": {
        "id": "dpFI5Uy87mZj"
      },
      "source": [
        "latent_dim = 300\n",
        "embedding_dim=100\n"
      ],
      "execution_count": null,
      "outputs": []
    },
    {
      "cell_type": "code",
      "metadata": {
        "id": "owLo9eoG7pDU"
      },
      "source": [
        "# Encoder\n",
        "encoder_inputs = Input(shape=(max_text_len,))\n",
        "\n",
        "#embedding layer\n",
        "enc_emb =  Embedding(x_voc, embedding_dim,trainable=True)(encoder_inputs)\n",
        "\n",
        "#encoder lstm 1\n",
        "encoder_lstm1 = LSTM(latent_dim,return_sequences=True,return_state=True,dropout=0.4,recurrent_dropout=0.4)\n",
        "encoder_output1, state_h1, state_c1 = encoder_lstm1(enc_emb)\n",
        "\n",
        "#encoder lstm 2\n",
        "encoder_lstm2 = LSTM(latent_dim,return_sequences=True,return_state=True,dropout=0.4,recurrent_dropout=0.4)\n",
        "encoder_output2, state_h2, state_c2 = encoder_lstm2(encoder_output1)\n",
        "\n",
        "#encoder lstm 3\n",
        "encoder_lstm3=LSTM(latent_dim, return_state=True, return_sequences=True,dropout=0.4,recurrent_dropout=0.4)\n",
        "encoder_outputs, state_h, state_c= encoder_lstm3(encoder_output2)\n"
      ],
      "execution_count": null,
      "outputs": []
    },
    {
      "cell_type": "code",
      "metadata": {
        "id": "EAU_ky6BhLFI"
      },
      "source": [
        ""
      ],
      "execution_count": null,
      "outputs": []
    },
    {
      "cell_type": "code",
      "metadata": {
        "id": "cEY5MbfF7r6P"
      },
      "source": [
        "# Set up the decoder, using `encoder_states` as initial state.\n",
        "decoder_inputs = Input(shape=(None,))\n",
        "\n",
        "#embedding layer\n",
        "dec_emb_layer = Embedding(y_voc, embedding_dim,trainable=True)\n",
        "dec_emb = dec_emb_layer(decoder_inputs)\n",
        "\n",
        "decoder_lstm = LSTM(latent_dim, return_sequences=True, return_state=True,dropout=0.4,recurrent_dropout=0.2)\n",
        "decoder_outputs,decoder_fwd_state, decoder_back_state = decoder_lstm(dec_emb,initial_state=[state_h, state_c])\n",
        "\n",
        "# Attention layer\n",
        "attn_layer = AttentionLayer(name='attention_layer')\n",
        "attn_out, attn_states = attn_layer({\"values\": encoder_outputs, \"query\": decoder_outputs})"
      ],
      "execution_count": null,
      "outputs": []
    },
    {
      "cell_type": "code",
      "metadata": {
        "colab": {
          "base_uri": "https://localhost:8080/"
        },
        "id": "4n8_43uZ7v4x",
        "outputId": "d0f6562f-22bb-4e92-8d9c-05c3e5e2ef5e"
      },
      "source": [
        "# Concat attention input and decoder LSTM output\n",
        "decoder_concat_input = Concatenate(axis=-1, name='concat_layer')([decoder_outputs, attn_out])\n",
        "\n",
        "#dense layer\n",
        "decoder_dense =  TimeDistributed(Dense(y_voc, activation='softmax'))\n",
        "decoder_outputs = decoder_dense(decoder_concat_input)\n",
        "\n",
        "# Define the model \n",
        "model = Model([encoder_inputs, decoder_inputs], decoder_outputs)\n",
        "\n",
        "model.summary()"
      ],
      "execution_count": null,
      "outputs": [
        {
          "output_type": "stream",
          "text": [
            "Model: \"functional_1\"\n",
            "__________________________________________________________________________________________________\n",
            "Layer (type)                    Output Shape         Param #     Connected to                     \n",
            "==================================================================================================\n",
            "input_1 (InputLayer)            [(None, 30)]         0                                            \n",
            "__________________________________________________________________________________________________\n",
            "embedding (Embedding)           (None, 30, 100)      749700      input_1[0][0]                    \n",
            "__________________________________________________________________________________________________\n",
            "lstm (LSTM)                     [(None, 30, 300), (N 481200      embedding[0][0]                  \n",
            "__________________________________________________________________________________________________\n",
            "input_2 (InputLayer)            [(None, None)]       0                                            \n",
            "__________________________________________________________________________________________________\n",
            "lstm_1 (LSTM)                   [(None, 30, 300), (N 721200      lstm[0][0]                       \n",
            "__________________________________________________________________________________________________\n",
            "embedding_1 (Embedding)         (None, None, 100)    170000      input_2[0][0]                    \n",
            "__________________________________________________________________________________________________\n",
            "lstm_2 (LSTM)                   [(None, 30, 300), (N 721200      lstm_1[0][0]                     \n",
            "__________________________________________________________________________________________________\n",
            "lstm_3 (LSTM)                   [(None, None, 300),  481200      embedding_1[0][0]                \n",
            "                                                                 lstm_2[0][1]                     \n",
            "                                                                 lstm_2[0][2]                     \n",
            "__________________________________________________________________________________________________\n",
            "attention_layer (AttentionLayer ((None, None, 300),  180300      lstm_3[0][0]                     \n",
            "                                                                 lstm_2[0][0]                     \n",
            "__________________________________________________________________________________________________\n",
            "concat_layer (Concatenate)      (None, None, 600)    0           lstm_3[0][0]                     \n",
            "                                                                 attention_layer[0][0]            \n",
            "__________________________________________________________________________________________________\n",
            "time_distributed (TimeDistribut (None, None, 1700)   1021700     concat_layer[0][0]               \n",
            "==================================================================================================\n",
            "Total params: 4,526,500\n",
            "Trainable params: 4,526,500\n",
            "Non-trainable params: 0\n",
            "__________________________________________________________________________________________________\n"
          ],
          "name": "stdout"
        }
      ]
    },
    {
      "cell_type": "code",
      "metadata": {
        "id": "KKAJWUyL7zsx"
      },
      "source": [
        "#using sparse categorical cross-entropy as the loss function since it converts the integer sequence to a one-hot vector on the fly, to overcome any memory issues\n",
        "model.compile(optimizer='rmsprop', loss='sparse_categorical_crossentropy')"
      ],
      "execution_count": null,
      "outputs": []
    },
    {
      "cell_type": "code",
      "metadata": {
        "id": "_5KygVGI7_ns"
      },
      "source": [
        "es = EarlyStopping(monitor='val_loss', mode='min', verbose=1,patience=2)"
      ],
      "execution_count": null,
      "outputs": []
    },
    {
      "cell_type": "code",
      "metadata": {
        "colab": {
          "base_uri": "https://localhost:8080/"
        },
        "id": "PzxEbvtp8CGC",
        "outputId": "cbfe09a8-b8f7-41be-89e9-fa5d32659f1f"
      },
      "source": [
        "#train the model on a batch size of 128 and validate it on the holdout set (which is 10% of our dataset)\n",
        "history=model.fit([x_tr,y_tr[:,:-1]], y_tr.reshape(y_tr.shape[0],y_tr.shape[1], 1)[:,1:] ,epochs=50,callbacks=[es],batch_size=128, validation_data=([x_val,y_val[:,:-1]], y_val.reshape(y_val.shape[0],y_val.shape[1], 1)[:,1:]))"
      ],
      "execution_count": null,
      "outputs": [
        {
          "output_type": "stream",
          "text": [
            "Epoch 1/50\n",
            "255/255 [==============================] - 585s 2s/step - loss: 2.8223 - val_loss: 2.5632\n",
            "Epoch 2/50\n",
            "255/255 [==============================] - 567s 2s/step - loss: 2.5106 - val_loss: 2.4126\n",
            "Epoch 3/50\n",
            "255/255 [==============================] - 567s 2s/step - loss: 2.3704 - val_loss: 2.3021\n",
            "Epoch 4/50\n",
            "255/255 [==============================] - 571s 2s/step - loss: 2.2612 - val_loss: 2.2274\n",
            "Epoch 5/50\n",
            "255/255 [==============================] - 568s 2s/step - loss: 2.1809 - val_loss: 2.1853\n",
            "Epoch 6/50\n",
            "255/255 [==============================] - 576s 2s/step - loss: 2.1146 - val_loss: 2.1316\n",
            "Epoch 7/50\n",
            "255/255 [==============================] - 580s 2s/step - loss: 2.0607 - val_loss: 2.1019\n",
            "Epoch 8/50\n",
            "255/255 [==============================] - 581s 2s/step - loss: 2.0127 - val_loss: 2.0795\n",
            "Epoch 9/50\n",
            "255/255 [==============================] - 576s 2s/step - loss: 1.9673 - val_loss: 2.0660\n",
            "Epoch 10/50\n",
            "255/255 [==============================] - 568s 2s/step - loss: 1.9267 - val_loss: 2.0605\n",
            "Epoch 11/50\n",
            "255/255 [==============================] - 572s 2s/step - loss: 1.8913 - val_loss: 2.0390\n",
            "Epoch 12/50\n",
            "255/255 [==============================] - 572s 2s/step - loss: 1.8536 - val_loss: 2.0293\n",
            "Epoch 13/50\n",
            "255/255 [==============================] - 568s 2s/step - loss: 1.8220 - val_loss: 2.0276\n",
            "Epoch 14/50\n",
            "255/255 [==============================] - 565s 2s/step - loss: 1.7882 - val_loss: 2.0273\n",
            "Epoch 15/50\n",
            "255/255 [==============================] - 563s 2s/step - loss: 1.7572 - val_loss: 2.0225\n",
            "Epoch 16/50\n",
            "255/255 [==============================] - 569s 2s/step - loss: 1.7279 - val_loss: 2.0271\n",
            "Epoch 17/50\n",
            "255/255 [==============================] - 571s 2s/step - loss: 1.6997 - val_loss: 2.0166\n",
            "Epoch 18/50\n",
            "255/255 [==============================] - 569s 2s/step - loss: 1.6712 - val_loss: 2.0240\n",
            "Epoch 19/50\n",
            "255/255 [==============================] - 566s 2s/step - loss: 1.6485 - val_loss: 2.0304\n",
            "Epoch 00019: early stopping\n"
          ],
          "name": "stdout"
        }
      ]
    },
    {
      "cell_type": "markdown",
      "metadata": {
        "id": "By1_lkL_8ToS"
      },
      "source": [
        "## Understanding the Diagnostic plot\n"
      ]
    },
    {
      "cell_type": "code",
      "metadata": {
        "id": "k3NuTHRE8cRu"
      },
      "source": [
        "from matplotlib import pyplot"
      ],
      "execution_count": null,
      "outputs": []
    },
    {
      "cell_type": "code",
      "metadata": {
        "colab": {
          "base_uri": "https://localhost:8080/",
          "height": 265
        },
        "id": "MWJ39pTA8FRB",
        "outputId": "f970cd41-bdcf-4e8b-c8e3-281267a6bcd6"
      },
      "source": [
        "pyplot.plot(history.history['loss'], label='train')\n",
        "pyplot.plot(history.history['val_loss'], label='test')\n",
        "pyplot.legend()\n",
        "pyplot.show()"
      ],
      "execution_count": null,
      "outputs": [
        {
          "output_type": "display_data",
          "data": {
            "image/png": "[encoded data removed]",
            "text/plain": [
              "<Figure size 432x288 with 1 Axes>"
            ]
          },
          "metadata": {
            "tags": [],
            "needs_background": "light"
          }
        }
      ]
    },
    {
      "cell_type": "code",
      "metadata": {
        "id": "M2Eqvid_8kiv"
      },
      "source": [
        "#dictionary to convert the index to word for target and source vocabulary\n",
        "reverse_target_word_index=y_tokenizer.index_word\n",
        "reverse_source_word_index=x_tokenizer.index_word\n",
        "target_word_index=y_tokenizer.word_index"
      ],
      "execution_count": null,
      "outputs": []
    },
    {
      "cell_type": "markdown",
      "metadata": {
        "id": "TKpf5PRz8vKW"
      },
      "source": [
        "# Inference"
      ]
    },
    {
      "cell_type": "code",
      "metadata": {
        "id": "3btcIa5O8sxv"
      },
      "source": [
        "#Set up the inference for the encoder and decoder\n",
        "# Encode the input sequence to get the feature vector\n",
        "encoder_model = Model(inputs=encoder_inputs,outputs=[encoder_outputs, state_h, state_c])\n",
        "\n",
        "# Decoder setup\n",
        "# Below tensors will hold the states of the previous time step\n",
        "decoder_state_input_h = Input(shape=(latent_dim,))\n",
        "decoder_state_input_c = Input(shape=(latent_dim,))\n",
        "decoder_hidden_state_input = Input(shape=(max_text_len,latent_dim))\n",
        "\n",
        "# Get the embeddings of the decoder sequence\n",
        "dec_emb2= dec_emb_layer(decoder_inputs) \n",
        "# To predict the next word in the sequence, set the initial states to the states from the previous time step\n",
        "decoder_outputs2, state_h2, state_c2 = decoder_lstm(dec_emb2, initial_state=[decoder_state_input_h, decoder_state_input_c])\n"
      ],
      "execution_count": null,
      "outputs": []
    },
    {
      "cell_type": "code",
      "metadata": {
        "id": "pp5AZWOgxu-l"
      },
      "source": [
        "#attention inference\n",
        "attn_out_inf, attn_states_inf = attn_layer({\"values\":[decoder_hidden_state_input], \"query\": decoder_outputs2 })\n",
        "decoder_inf_concat = Concatenate(axis=-1, name='concat')([decoder_outputs2, attn_out_inf])\n"
      ],
      "execution_count": null,
      "outputs": []
    },
    {
      "cell_type": "code",
      "metadata": {
        "id": "oN2QJu1A-WP1"
      },
      "source": [
        "# A dense softmax layer to generate prob dist. over the target vocabulary\n",
        "decoder_outputs2 = decoder_dense(decoder_inf_concat) \n",
        "\n",
        "# Final decoder model\n",
        "decoder_model = Model(\n",
        "    [decoder_inputs] + [decoder_hidden_state_input,decoder_state_input_h, decoder_state_input_c],\n",
        "    [decoder_outputs2] + [state_h2, state_c2])"
      ],
      "execution_count": null,
      "outputs": []
    },
    {
      "cell_type": "code",
      "metadata": {
        "id": "x4vxGMtI83LW"
      },
      "source": [
        "def decode_sequence(input_seq):\n",
        "    # Encode the input as state vectors.\n",
        "    e_out, e_h, e_c = encoder_model.predict(input_seq)\n",
        "    \n",
        "    # Generate empty target sequence of length 1.\n",
        "    target_seq = np.zeros((1,1))\n",
        "    \n",
        "    # Populate the first word of target sequence with the start word.\n",
        "    target_seq[0, 0] = target_word_index['sostok']\n",
        "\n",
        "    stop_condition = False\n",
        "    decoded_sentence = ''\n",
        "    while not stop_condition:\n",
        "      \n",
        "        output_tokens, h, c = decoder_model.predict([target_seq] + [e_out, e_h, e_c])\n",
        "\n",
        "        # Sample a token\n",
        "        sampled_token_index = np.argmax(output_tokens[0, -1, :])\n",
        "        sampled_token = reverse_target_word_index[sampled_token_index]\n",
        "        \n",
        "        if(sampled_token!='eostok'):\n",
        "            decoded_sentence += ' '+sampled_token\n",
        "\n",
        "        # Exit condition: either hit max length or find stop word.\n",
        "        if (sampled_token == 'eostok'  or len(decoded_sentence.split()) >= (max_summary_len-1)):\n",
        "            stop_condition = True\n",
        "\n",
        "        # Update the target sequence (of length 1).\n",
        "        target_seq = np.zeros((1,1))\n",
        "        target_seq[0, 0] = sampled_token_index\n",
        "\n",
        "        # Update internal states\n",
        "        e_h, e_c = h, c\n",
        "\n",
        "    return decoded_sentence"
      ],
      "execution_count": null,
      "outputs": []
    },
    {
      "cell_type": "code",
      "metadata": {
        "id": "KKwX4FvG9A13"
      },
      "source": [
        "#define the functions to convert an integer sequence to a word sequence for summary as well as the reviews\n",
        "def seq2summary(input_seq):    \n",
        "    newString=''\n",
        "    for i in input_seq:\n",
        "        if((i!=0 and i!=target_word_index['sostok']) and i!=target_word_index['eostok']):\n",
        "            newString=newString+reverse_target_word_index[i]+' '\n",
        "    return newString\n",
        "\n",
        "def seq2text(input_seq):\n",
        "    newString=''\n",
        "    for i in input_seq:\n",
        "        if(i!=0):\n",
        "            newString=newString+reverse_source_word_index[i]+' '\n",
        "    return newString"
      ],
      "execution_count": null,
      "outputs": []
    },
    {
      "cell_type": "code",
      "metadata": {
        "colab": {
          "base_uri": "https://localhost:8080/"
        },
        "id": "tSw09rIg9Ge3",
        "outputId": "685e8a24-360d-4f7a-d9eb-2581bbac0ae4"
      },
      "source": [
        "#few summaries generated by the model:\n",
        "for i in range(0,100):\n",
        "    print(\"Review:\",seq2text(x_tr[i]))\n",
        "    print(\"Original summary:\",seq2summary(y_tr[i]))\n",
        "    print(\"Predicted summary:\",decode_sequence(x_tr[i].reshape(1,max_text_len)))\n",
        "    print(\"\\n\")"
      ],
      "execution_count": null,
      "outputs": [
        {
          "output_type": "stream",
          "text": [
            "Review: product must pomeranian adores keep teeth white dental checks always good always keep hand \n",
            "Original summary: edible dental chews \n",
            "Predicted summary:  great product\n",
            "\n",
            "\n",
            "Review: seen dr oz organic coconut palm sugar lb bag organic coconut palm sugar tastes great exactly like cane sugar \n",
            "Original summary: yummy \n",
            "Predicted summary:  great taste\n",
            "\n",
            "\n",
            "Review: coffee snob take grain salt taste great grind super fine pack semi tightly result strong flavorful espresso little bit steamed milk mixed spending coffee shop \n",
            "Original summary: delicious expresso \n",
            "Predicted summary:  great tasting\n",
            "\n",
            "\n",
            "Review: tried crystal light product liked much right next glass similar product kellogs horrible made realize far superior crystal light version \n",
            "Original summary: so much better than the \n",
            "Predicted summary:  not bad\n",
            "\n",
            "\n",
            "Review: pleased dog food sheltie good coat good movements harmony farms much better food others picky eater add chicken eat stick harmony farms also like bag helps keep food fresh \n",
            "Original summary: good dog food \n",
            "Predicted summary:  my dog loves it\n",
            "\n",
            "\n",
            "Review: gum hard small taste ok use two pieces enough gum chew would purchase \n",
            "Original summary: gum \n",
            "Predicted summary:  not the best\n",
            "\n",
            "\n",
            "Review: elite always looking healthy nutrition tastes great tried lot bars larabar become choice riding great tasting soft easy chew riding best loaded artificial crap fillers \n",
            "Original summary: larabar simply the best \n",
            "Predicted summary:  love it\n",
            "\n",
            "\n",
            "Review: bought multi box flavors absolute best flavor one comment spicy sweet flavorful fun crispy lower fat chips loved buying flavor flavors great one \n",
            "Original summary: best flavor hands down of popchips is \n",
            "Predicted summary:  great taste\n",
            "\n",
            "\n",
            "Review: food well worth money yellow lab arthritis back legs since started wellness also would get belly allergies broken since highly recommended \n",
            "Original summary: wellness \n",
            "Predicted summary:  my dog loves it\n",
            "\n",
            "\n",
            "Review: super hard time finding anyone chewies stock alot stock shipped asap thanks definitely purchase \n",
            "Original summary: hard to find \n",
            "Predicted summary:  great\n",
            "\n",
            "\n",
            "Review: pamela chocolate brownie mix favorite gf brownies date chocolatey chunks chocolate throughout easy mix fast treat \n",
            "Original summary: love this \n",
            "Predicted summary:  yummy\n",
            "\n",
            "\n",
            "Review: excellent product great price add smoothies adding homemade coconut milk ice cream \n",
            "Original summary: healthy \n",
            "Predicted summary:  great product\n",
            "\n",
            "\n",
            "Review: like small crunchy bran flakes lots raisins love best raisin bran cereal market today \n",
            "Original summary: raisin bran cereal \n",
            "Predicted summary:  great cereal\n",
            "\n",
            "\n",
            "Review: great like coffee strong price fantastic compared department stores love cups \n",
            "Original summary: cannot beat the price \n",
            "Predicted summary:  great coffee\n",
            "\n",
            "\n",
            "Review: vet sells way listed four dogs one wont chew also like rawhides leave dogs item one dogs keeps second finished makes nervous \n",
            "Original summary: nice \n",
            "Predicted summary:  dogs love them\n",
            "\n",
            "\n",
            "Review: cats love food much research weruva appears high quality food good health ever since starting food appears true \n",
            "Original summary: not run out of this cat food \n",
            "Predicted summary:  great food\n",
            "\n",
            "\n",
            "Review: ordered recieved one bully stick one box bully sticks one individual bully stick bummer called return want pay postage way \n",
            "Original summary: do not order this \n",
            "Predicted summary:  do not buy\n",
            "\n",
            "\n",
            "Review: love body wash smells nice works great feels great skin add fact subscribe save deal great value sold \n",
            "Original summary: great product and value \n",
            "Predicted summary:  great product\n",
            "\n",
            "\n",
            "Review: use bread mix main gluten free bread home everyone loves plus egg allergy make egg free still good \n",
            "Original summary: great bread mix \n",
            "Predicted summary:  great bread\n",
            "\n",
            "\n",
            "Review: bought starbucks loved im always looking weight watcher friendly snack fit bill four weight watcher plus points delicious \n",
            "Original summary: really good \n",
            "Predicted summary:  great snack\n",
            "\n",
            "\n",
            "Review: sure people tasted love soup drink almost every day work filling satisfying deliciously spicy low fat natural wholesome tried soups cant say good \n",
            "Original summary: love this soup \n",
            "Predicted summary:  great soup\n",
            "\n",
            "\n",
            "Review: maltese allergies food eat food hungry inhale food believe finds particularly tasty refuse eat never tried cannot claim first hand knowledge flavor \n",
            "Original summary: my dog likes it \n",
            "Predicted summary:  my son likes it\n",
            "\n",
            "\n",
            "Review: arrived good shape perfect packing small salad lunch enough dressing course either like ranch add freshly ground pepper little sell pepper already happy man good deal \n",
            "Original summary: and go salad without the salad bar \n",
            "Predicted summary:  great\n",
            "\n",
            "\n",
            "Review: taking advantage pricing selling item mark get keurig com half price \n",
            "Original summary: rip off price \n",
            "Predicted summary:  not what expected\n",
            "\n",
            "\n",
            "Review: product real eye opener rich bold flavor surprisingly fresh love convenience heated drink liked much better cold recommended \n",
            "Original summary: strong and tasty \n",
            "Predicted summary:  delicious\n",
            "\n",
            "\n",
            "Review: really need cook cereal let sit milk overnight refrigerator use almond rice milk use equal amount cereal milk cold refreshing tastes great \n",
            "Original summary: product \n",
            "Predicted summary:  great cereal\n",
            "\n",
            "\n",
            "Review: delicious like buying store would buy used birthday party hit even adults \n",
            "Original summary: delicious \n",
            "Predicted summary:  great\n",
            "\n",
            "\n",
            "Review: fast good beats stand stove prepare indian cooking \n",
            "Original summary: to eat indian food \n",
            "Predicted summary:  great\n",
            "\n",
            "\n",
            "Review: tasty gourmet cracker taste sesame seeds seasonings crackers overwhelmed salty taste cannot enjoy dips spreads perfect eat without kind spreads dips also try love \n",
            "Original summary: the best gourmet cracker \n",
            "Predicted summary:  great for popcorn\n",
            "\n",
            "\n",
            "Review: use product exclusively toy breed dogs dogs well product prime member find purchase product delivered home less could purchase going pet store \n",
            "Original summary: great pricing \n",
            "Predicted summary:  great product\n",
            "\n",
            "\n",
            "Review: first time using product absolutely best hot fudge sauce ever eaten \n",
            "Original summary: hot fudge sauce \n",
            "Predicted summary:  the best\n",
            "\n",
            "\n",
            "Review: licorice flavor hard eat seal bag hard soft like licorice \n",
            "Original summary: strawberry licorice \n",
            "Predicted summary:  licorice\n",
            "\n",
            "\n",
            "Review: dog loves em could better plus clean teeth great cannot find large dogs store happy find amazon \n",
            "Original summary: great value \n",
            "Predicted summary:  great treat\n",
            "\n",
            "\n",
            "Review: versatile product good tasting texture good bread pizza breads allows consumer dough little bit try new ideas breads really enjoy using bread mix thank pamela \n",
            "Original summary: tastes like real bread good texture flavor \n",
            "Predicted summary:  great bread\n",
            "\n",
            "\n",
            "Review: minute spray moss side house completely gone dead faded days better yet four months later signs moss coming back great something really works advertised \n",
            "Original summary: amazing stuff \n",
            "Predicted summary:  great stuff\n",
            "\n",
            "\n",
            "Review: caramel corn tasty peanuts bottom bag add caramel flavor addicted glad amazon sells bulk \n",
            "Original summary: tasty snack \n",
            "Predicted summary:  great snack\n",
            "\n",
            "\n",
            "Review: since started sprouting organic soybeans become addicted gmo soy becoming norm sprouting instead safe economical delicious alternative \n",
            "Original summary: great sprouts \n",
            "Predicted summary:  great product\n",
            "\n",
            "\n",
            "Review: favorite tea face planet delicious great way body smells great \n",
            "Original summary: love this stuff \n",
            "Predicted summary:  great tea\n",
            "\n",
            "\n",
            "Review: found coconut water almost tasteless like water slight coconut flavor coconut waters quite expensive like coconut flavor true complaints others prefer zico \n",
            "Original summary: ok but not my favorite \n",
            "Predicted summary:  tastes great\n",
            "\n",
            "\n",
            "Review: dog treat terrier eat crumble dry food loves \n",
            "Original summary: best dog treat ever \n",
            "Predicted summary:  dog treats\n",
            "\n",
            "\n",
            "Review: always perfect snack dog loves knows exactly starts ask time evening gets greenie snack thank excellent product fast delivery \n",
            "Original summary: greenies buddy treat \n",
            "Predicted summary:  great treats\n",
            "\n",
            "\n",
            "Review: bought product result great reviews got trust disappointed normally bought similar type product trader joe highland sugarworks syrup blows away basically price definitely try one sorry \n",
            "Original summary: delicious \n",
            "Predicted summary:  delicious\n",
            "\n",
            "\n",
            "Review: tea good discovered visiting california moment got home searched local stores able find finally decided see amazon bought two boxes long make buy \n",
            "Original summary: tastes very good \n",
            "Predicted summary:  great tea\n",
            "\n",
            "\n",
            "Review: mom gave licorice tea whenever bad throat really soothing throat works well really really dislike flavor licorice might want stay away tea typically like licorice bad sometimes drink scent flavor \n",
            "Original summary: great for throat \n",
            "Predicted summary:  not bad for all\n",
            "\n",
            "\n",
            "Review: purchased wedding favors huge hit candied almonds sweet mint green color gorgeous whole lot cheaper buy amazon \n",
            "Original summary: perfect for and color \n",
            "Predicted summary:  great snack\n",
            "\n",
            "\n",
            "Review: never disappointed breakfast blend coffee green mountain coffee always fresh makes smooth cup coffee never bitter \n",
            "Original summary: breakfast blend the best \n",
            "Predicted summary:  great coffee\n",
            "\n",
            "\n",
            "Review: coffee maker several years wife likes try different flavors occasionally cup decaf night newman always favorite great tasting bold cup coffee \n",
            "Original summary: hands down my favorite \n",
            "Predicted summary:  great coffee\n",
            "\n",
            "\n",
            "Review: best coffee world glad found stores stopped carrying flavors regular \n",
            "Original summary: love it \n",
            "Predicted summary:  best coffee ever\n",
            "\n",
            "\n",
            "Review: never find stores found awesome boyfriend fav price bad got fast \n",
            "Original summary: the best \n",
            "Predicted summary:  great product\n",
            "\n",
            "\n",
            "Review: believe fda requires ingredients listed order based amount weight rule exists product title though otherwise would called cashew clusters almonds cane sugar taste good though \n",
            "Original summary: more sugar than pumpkin seeds \n",
            "Predicted summary:  not as good as\n",
            "\n",
            "\n",
            "Review: recommend product puppies love apple treat much really good training treat \n",
            "Original summary: treat \n",
            "Predicted summary:  great treats\n",
            "\n",
            "\n",
            "Review: one best sour candy treats ever best best consistency right amount chewy break apart teeth like jelly beans like amazing like sour perfect challenge teeth buy bites delicious \n",
            "Original summary: love sour \n",
            "Predicted summary:  best candy ever\n",
            "\n",
            "\n",
            "Review: maltese male dogs age bought help dental health love sticky messy gummy like chews \n",
            "Original summary: dogs loved em \n",
            "Predicted summary:  my dogs love them\n",
            "\n",
            "\n",
            "Review: delicious much cheaper grocery store actually stores carry particular product pleased find \n",
            "Original summary: love this stuff \n",
            "Predicted summary:  great\n",
            "\n",
            "\n",
            "Review: garlic good vinegar salt best addicted signed monthly shipments like vinegar salt potato chips love \n",
            "Original summary: wow \n",
            "Predicted summary:  great salt\n",
            "\n",
            "\n",
            "Review: son loves cheese longer purchase local stores happy able buy online thank amazon \n",
            "Original summary: excellent product excellent price \n",
            "Predicted summary:  great\n",
            "\n",
            "\n",
            "Review: ordered mints several times always please speed arrived taste like ones sugar continue order mints \n",
            "Original summary: sugar free mints good stuff \n",
            "Predicted summary:  great gift\n",
            "\n",
            "\n",
            "Review: caribou cups favorite blend far taste great strong typically use travel mug setting drink black still tastes great using smaller cup settings find lot cups taste little strong good \n",
            "Original summary: my favorite cups \n",
            "Predicted summary:  my favorite cup\n",
            "\n",
            "\n",
            "Review: love coffee love kind kona coffee decaf regular wonderful try wont buy thing else \n",
            "Original summary: great coffee \n",
            "Predicted summary:  great coffee\n",
            "\n",
            "\n",
            "Review: received green tea month ago first fan know wonderful think maybe also grew look forward morning evening tea thanks much \n",
            "Original summary: super green tea \n",
            "Predicted summary:  great tea\n",
            "\n",
            "\n",
            "Review: love flavor cardamom brings best plenty raw almond butters never one blended smoothly great balance flavors happy company exists led purchase one products impressed \n",
            "Original summary: amazing flavor \n",
            "Predicted summary:  best tasting\n",
            "\n",
            "\n",
            "Review: stars think worth cookie grandkids loved adults plenty chocolate bite many almonds would liked moist chewy tasted like could homemade tasted fresh think price individual packaging inside box \n",
            "Original summary: quaker soft baked oatmeal cookie chocolate almond \n",
            "Predicted summary:  these are awesome\n",
            "\n",
            "\n",
            "Review: used london grilled meat well many wonder hot tough question since really like peppers kinds would call pretty mild taste may vary \n",
            "Original summary: good flavor \n",
            "Predicted summary:  good stuff\n",
            "\n",
            "\n",
            "Review: update buying thai kitchen crush milk delicious funky preservatives like get goya others better deal buying bulk pretty good stuff mention believe cans bpa free \n",
            "Original summary: and more \n",
            "Predicted summary:  good but not great\n",
            "\n",
            "\n",
            "Review: puppy picky eater makes hard find training treats work loves \n",
            "Original summary: great training treat \n",
            "Predicted summary:  great treats\n",
            "\n",
            "\n",
            "Review: like sticky softer brown rice hard believe actually brown rice eat rice \n",
            "Original summary: love it \n",
            "Predicted summary:  great rice\n",
            "\n",
            "\n",
            "Review: factor shipping per lb hot damn bacon near acceptable cheaper may best butt price \n",
            "Original summary: for lbs \n",
            "Predicted summary:  good for the price\n",
            "\n",
            "\n",
            "Review: love soup healthy full bad ingredients like chicken noodle better rice pretty good \n",
            "Original summary: love wolfgang puck soups \n",
            "Predicted summary:  great soup\n",
            "\n",
            "\n",
            "Review: assorted package comes extra apples happens yucky one pear bad bananas strawberry bananas decent eat strawberries way tangy \n",
            "Original summary: it is so so \n",
            "Predicted summary:  not as good as expected\n",
            "\n",
            "\n",
            "Review: tasty chip texture thought slight cracker flavor really like sweet potatos really enjoyed neat way keep kids healthy also great way get older people eat healthy \n",
            "Original summary: but good \n",
            "Predicted summary:  great taste\n",
            "\n",
            "\n",
            "Review: subscribe save price local family dollar went ahead ordered pack friends holidays average thought would small layer cheese guess everything nowadays average purchasing bad used dip \n",
            "Original summary: not very flavorful \n",
            "Predicted summary:  not as good as expected\n",
            "\n",
            "\n",
            "Review: love bars buy time noticed amazon longer nutrition information easily available \n",
            "Original summary: love these \n",
            "Predicted summary:  great bars\n",
            "\n",
            "\n",
            "Review: completely addicted chai gotten friends work hooked well split box bought less expensive get single box grocery store definitely worth especially get free shipping needs coffee \n",
            "Original summary: yumm \n",
            "Predicted summary:  the best\n",
            "\n",
            "\n",
            "Review: love hazelnut coffee enough coffee flavor kind weak side opinion keep looking \n",
            "Original summary: meh okay not great \n",
            "Predicted summary:  not worth the money\n",
            "\n",
            "\n",
            "Review: loved blood sugar benefit actual product amazingly good wonderful taste consistency portion highly recommended \n",
            "Original summary: really great product \n",
            "Predicted summary:  great\n",
            "\n",
            "\n",
            "Review: know fishy flavor think wasted money one think looking chile curry paste guess looked ingredients \n",
            "Original summary: disgusting \n",
            "Predicted summary:  bad\n",
            "\n",
            "\n",
            "Review: cookie bars great packing lunch alone snack try flavors variety \n",
            "Original summary: great gluten free snack \n",
            "Predicted summary:  great snack\n",
            "\n",
            "\n",
            "Review: product solid well made nothing slow fast eater even seem notice rounded center portion \n",
            "Original summary: slow feed bowl not so slow \n",
            "Predicted summary:  not good\n",
            "\n",
            "\n",
            "Review: healthful tasty flavorful snappy cookies sweet overly bit molasses taste ginger snaps known really nice ginger bite great tea milk even coffee \n",
            "Original summary: classic great cookies \n",
            "Predicted summary:  great tasting cookies\n",
            "\n",
            "\n",
            "Review: thin crisp fragrant cookies delicious tasty excellent glass cold almond milk hot herbal tea like ginger snaps love ginger snaps \n",
            "Original summary: delicious \n",
            "Predicted summary:  delicious\n",
            "\n",
            "\n",
            "Review: cant go wrong rosa one best argentina go seller everything ok time etc \n",
            "Original summary: best mate \n",
            "Predicted summary:  best ever\n",
            "\n",
            "\n",
            "Review: expected bad taste fine appearance hoping find clear green tea maybe \n",
            "Original summary: okay \n",
            "Predicted summary:  not bad\n",
            "\n",
            "\n",
            "Review: love sweet tooth quite eat sweet craving mention taste great \n",
            "Original summary: dark chocolate covered with blueberry \n",
            "Predicted summary:  great\n",
            "\n",
            "\n",
            "Review: review mostly seller great product arrived within days standard shipping never black truffles earthy smoky flavor really lightly sauteed butter expensive pleasant treat \n",
            "Original summary: great service interesting product \n",
            "Predicted summary:  great product\n",
            "\n",
            "\n",
            "Review: three dogs two mini toy poodle three dogs love treats right size even smallest dog trouble eating opposed bigger treat broken like fact made meat vegetable dogs \n",
            "Original summary: good \n",
            "Predicted summary:  dogs love them\n",
            "\n",
            "\n",
            "Review: son around months old got formula similac change formula lot formula great price \n",
            "Original summary: good formula great price \n",
            "Predicted summary:  good food\n",
            "\n",
            "\n",
            "Review: mixed plain yogurt frozen blueberries boston terrier kong loved kept bringing wanting love wheat free think might allergic least sensitive wheat \n",
            "Original summary: my loved them \n",
            "Predicted summary:  great treats\n",
            "\n",
            "\n",
            "Review: oz min time french vanilla creamer aromatic sweet creamy treat \n",
            "Original summary: in cup \n",
            "Predicted summary:  great coffee\n",
            "\n",
            "\n",
            "Review: hot coca tastes pretty good brewed oz setting however best ever tasted worst hard rate everyone different tastes like self happen like buy unless find something better \n",
            "Original summary: tastes pretty good \n",
            "Predicted summary:  not bad\n",
            "\n",
            "\n",
            "Review: amazing paleo live paleo lifestyle eat fat content little high cares eat dessert tastiest macaroons ever \n",
            "Original summary: amazing and they are \n",
            "Predicted summary:  the best\n",
            "\n",
            "\n",
            "Review: fabulous tasty awful already recommended folks work continue purchase \n",
            "Original summary: eat without guilty \n",
            "Predicted summary:  great\n",
            "\n",
            "\n",
            "Review: mostly sauce counted guess reviewer though top hate lid system hard get darn lids offs cut finger plastic lid stick canned good get something eat \n",
            "Original summary: where is the food \n",
            "Predicted summary:  not as good as it\n",
            "\n",
            "\n",
            "Review: good product made mistake thinking could buy similar product nearby large chain store comparison quality eating watery name brand product came straight amazon ordered product \n",
            "Original summary: good product \n",
            "Predicted summary:  good product\n",
            "\n",
            "\n",
            "Review: keeps litter floor easily cleaned compared type \n",
            "Original summary: does the job and easy to clean \n",
            "Predicted summary:  great product\n",
            "\n",
            "\n",
            "Review: anyone awsome careful though hot imagine able feel lips \n",
            "Original summary: love it \n",
            "Predicted summary:  not the best\n",
            "\n",
            "\n",
            "Review: tried lots gluten free goodies daughter absolutely loves bedtime snack \n",
            "Original summary: sweet \n",
            "Predicted summary:  great gluten free snack\n",
            "\n",
            "\n",
            "Review: generally used bread mixes lot trouble getting good product lots different recipes easy use convinced bread mix way go \n",
            "Original summary: great gluten free bread \n",
            "Predicted summary:  best gluten free bread ever\n",
            "\n",
            "\n",
            "Review: dark magic good cup coffee little bitter good strong anytime day \n",
            "Original summary: good cup of coffee \n",
            "Predicted summary:  good coffee\n",
            "\n",
            "\n",
            "Review: love seasonings tried never disappointed msg perfect mixtures \n",
            "Original summary: yum \n",
            "Predicted summary:  great\n",
            "\n",
            "\n",
            "Review: tried several marinades years hands best found favorite use one boneless pork ribs marinade stonger flavor minutes great job also \n",
            "Original summary: the best marinade \n",
            "Predicted summary:  best seasoning ever\n",
            "\n",
            "\n"
          ],
          "name": "stdout"
        }
      ]
    },
    {
      "cell_type": "code",
      "metadata": {
        "id": "KgbmWch374Kv"
      },
      "source": [
        ""
      ],
      "execution_count": null,
      "outputs": []
    }
  ]
}